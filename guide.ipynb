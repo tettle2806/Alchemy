{
 "cells": [
  {
   "metadata": {},
   "cell_type": "markdown",
   "source": "Для инициализации ассинхронного Alembic в проекте, выполните следующую команду в терминале:",
   "id": "79a53a78995ec67c"
  },
  {
   "metadata": {},
   "cell_type": "code",
   "outputs": [],
   "execution_count": null,
   "source": "alembic init -t async migration",
   "id": "3bd37ff699432d5d"
  },
  {
   "metadata": {},
   "cell_type": "markdown",
   "source": "Подготовка файла миграций",
   "id": "5bd580fc97eae352"
  },
  {
   "metadata": {},
   "cell_type": "code",
   "outputs": [],
   "execution_count": null,
   "source": "alembic revision --autogenerate -m \"Initial revision\"",
   "id": "cab3a373443e0d2"
  },
  {
   "metadata": {},
   "cell_type": "markdown",
   "source": "Для того чтобы обновить базу данных до последней версии, выполните команду:",
   "id": "cbe254c202e6607c"
  },
  {
   "metadata": {},
   "cell_type": "code",
   "outputs": [],
   "execution_count": null,
   "source": "alembic upgrade head",
   "id": "7619f3c404894ac0"
  },
  {
   "metadata": {},
   "cell_type": "markdown",
   "source": [
    "Выполнение миграции до конкретного ID.\n",
    "\n",
    "В данном случае d97a9824423b — это уникальный идентификатор нужной миграции. Alembic выполнит все миграции до указанного ID, обновив базу данных до состояния, соответствующего этой версии."
   ],
   "id": "7141afbb515f2a53"
  },
  {
   "metadata": {},
   "cell_type": "code",
   "outputs": [],
   "execution_count": null,
   "source": "alembic upgrade d97a9824423b",
   "id": "3a32cb8d934b1219"
  },
  {
   "metadata": {},
   "cell_type": "markdown",
   "source": [
    "Откат миграций: Downgrade\n",
    "\n",
    "Откат на одну версию назад"
   ],
   "id": "345be35b64163571"
  },
  {
   "metadata": {},
   "cell_type": "code",
   "outputs": [],
   "execution_count": null,
   "source": "alembic downgrade -1",
   "id": "865962ca61885187"
  },
  {
   "metadata": {},
   "cell_type": "markdown",
   "source": "Откат до конкретной миграции",
   "id": "bda334123e529f1c"
  },
  {
   "metadata": {},
   "cell_type": "code",
   "outputs": [],
   "execution_count": null,
   "source": "alembic downgrade d97a9824423b",
   "id": "5d83da5dccd59053"
  },
  {
   "metadata": {},
   "cell_type": "markdown",
   "source": "",
   "id": "2e2d15ca2392cce9"
  }
 ],
 "metadata": {
  "kernelspec": {
   "display_name": "Python 3",
   "language": "python",
   "name": "python3"
  },
  "language_info": {
   "codemirror_mode": {
    "name": "ipython",
    "version": 2
   },
   "file_extension": ".py",
   "mimetype": "text/x-python",
   "name": "python",
   "nbconvert_exporter": "python",
   "pygments_lexer": "ipython2",
   "version": "2.7.6"
  }
 },
 "nbformat": 4,
 "nbformat_minor": 5
}
